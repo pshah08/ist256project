{
 "cells": [
  {
   "cell_type": "code",
   "execution_count": 1,
   "metadata": {},
   "outputs": [
    {
     "name": "stdout",
     "output_type": "stream",
     "text": [
      "{'id': 2021, 'area': {'id': 2072, 'name': 'England'}, 'name': 'Premier League', 'code': 'PL', 'emblemUrl': None, 'plan': 'TIER_ONE', 'currentSeason': {'id': 151, 'startDate': '2018-08-10', 'endDate': '2019-05-12', 'currentMatchday': 37, 'winner': None}, 'seasons': [{'id': 151, 'startDate': '2018-08-10', 'endDate': '2019-05-12', 'currentMatchday': 37, 'winner': None}, {'id': 23, 'startDate': '2017-08-11', 'endDate': '2018-05-13', 'currentMatchday': 38, 'winner': {'id': 65, 'name': 'Manchester City FC', 'shortName': 'Man City', 'tla': 'MCI', 'crestUrl': 'https://upload.wikimedia.org/wikipedia/en/e/eb/Manchester_City_FC_badge.svg'}}, {'id': 256, 'startDate': '2016-08-13', 'endDate': '2017-05-21', 'currentMatchday': None, 'winner': {'id': 61, 'name': 'Chelsea FC', 'shortName': 'Chelsea', 'tla': 'CHE', 'crestUrl': 'http://upload.wikimedia.org/wikipedia/de/5/5c/Chelsea_crest.svg'}}, {'id': 257, 'startDate': '2015-08-08', 'endDate': '2016-05-17', 'currentMatchday': None, 'winner': {'id': 338, 'name': 'Leicester City FC', 'shortName': 'Leicester City', 'tla': 'LEI', 'crestUrl': 'http://upload.wikimedia.org/wikipedia/en/6/63/Leicester02.png'}}, {'id': 258, 'startDate': '2014-08-16', 'endDate': '2015-05-24', 'currentMatchday': None, 'winner': {'id': 61, 'name': 'Chelsea FC', 'shortName': 'Chelsea', 'tla': 'CHE', 'crestUrl': 'http://upload.wikimedia.org/wikipedia/de/5/5c/Chelsea_crest.svg'}}, {'id': 259, 'startDate': '2013-08-17', 'endDate': '2014-05-11', 'currentMatchday': None, 'winner': {'id': 65, 'name': 'Manchester City FC', 'shortName': 'Man City', 'tla': 'MCI', 'crestUrl': 'https://upload.wikimedia.org/wikipedia/en/e/eb/Manchester_City_FC_badge.svg'}}, {'id': 260, 'startDate': '2012-08-18', 'endDate': '2013-05-19', 'currentMatchday': None, 'winner': {'id': 66, 'name': 'Manchester United FC', 'shortName': 'Man United', 'tla': 'MUN', 'crestUrl': 'http://upload.wikimedia.org/wikipedia/de/d/da/Manchester_United_FC.svg'}}, {'id': 261, 'startDate': '2011-08-13', 'endDate': '2012-05-13', 'currentMatchday': None, 'winner': {'id': 65, 'name': 'Manchester City FC', 'shortName': 'Man City', 'tla': 'MCI', 'crestUrl': 'https://upload.wikimedia.org/wikipedia/en/e/eb/Manchester_City_FC_badge.svg'}}, {'id': 262, 'startDate': '2010-08-14', 'endDate': '2011-05-22', 'currentMatchday': None, 'winner': {'id': 66, 'name': 'Manchester United FC', 'shortName': 'Man United', 'tla': 'MUN', 'crestUrl': 'http://upload.wikimedia.org/wikipedia/de/d/da/Manchester_United_FC.svg'}}, {'id': 263, 'startDate': '2009-08-15', 'endDate': '2010-05-09', 'currentMatchday': None, 'winner': {'id': 61, 'name': 'Chelsea FC', 'shortName': 'Chelsea', 'tla': 'CHE', 'crestUrl': 'http://upload.wikimedia.org/wikipedia/de/5/5c/Chelsea_crest.svg'}}, {'id': 264, 'startDate': '2008-08-16', 'endDate': '2009-05-24', 'currentMatchday': None, 'winner': {'id': 66, 'name': 'Manchester United FC', 'shortName': 'Man United', 'tla': 'MUN', 'crestUrl': 'http://upload.wikimedia.org/wikipedia/de/d/da/Manchester_United_FC.svg'}}, {'id': 265, 'startDate': '2007-08-11', 'endDate': '2008-05-11', 'currentMatchday': None, 'winner': {'id': 66, 'name': 'Manchester United FC', 'shortName': 'Man United', 'tla': 'MUN', 'crestUrl': 'http://upload.wikimedia.org/wikipedia/de/d/da/Manchester_United_FC.svg'}}, {'id': 266, 'startDate': '2006-08-19', 'endDate': '2007-05-13', 'currentMatchday': None, 'winner': {'id': 66, 'name': 'Manchester United FC', 'shortName': 'Man United', 'tla': 'MUN', 'crestUrl': 'http://upload.wikimedia.org/wikipedia/de/d/da/Manchester_United_FC.svg'}}, {'id': 267, 'startDate': '2005-08-13', 'endDate': '2006-05-07', 'currentMatchday': None, 'winner': {'id': 61, 'name': 'Chelsea FC', 'shortName': 'Chelsea', 'tla': 'CHE', 'crestUrl': 'http://upload.wikimedia.org/wikipedia/de/5/5c/Chelsea_crest.svg'}}, {'id': 268, 'startDate': '2004-08-14', 'endDate': '2005-05-15', 'currentMatchday': None, 'winner': {'id': 61, 'name': 'Chelsea FC', 'shortName': 'Chelsea', 'tla': 'CHE', 'crestUrl': 'http://upload.wikimedia.org/wikipedia/de/5/5c/Chelsea_crest.svg'}}, {'id': 269, 'startDate': '2003-08-16', 'endDate': '2004-05-15', 'currentMatchday': None, 'winner': {'id': 57, 'name': 'Arsenal FC', 'shortName': 'Arsenal', 'tla': 'ARS', 'crestUrl': 'http://upload.wikimedia.org/wikipedia/en/5/53/Arsenal_FC.svg'}}, {'id': 270, 'startDate': '2002-08-17', 'endDate': '2003-05-11', 'currentMatchday': None, 'winner': {'id': 66, 'name': 'Manchester United FC', 'shortName': 'Man United', 'tla': 'MUN', 'crestUrl': 'http://upload.wikimedia.org/wikipedia/de/d/da/Manchester_United_FC.svg'}}, {'id': 271, 'startDate': '2001-08-18', 'endDate': '2002-05-11', 'currentMatchday': None, 'winner': {'id': 57, 'name': 'Arsenal FC', 'shortName': 'Arsenal', 'tla': 'ARS', 'crestUrl': 'http://upload.wikimedia.org/wikipedia/en/5/53/Arsenal_FC.svg'}}, {'id': 272, 'startDate': '2000-08-19', 'endDate': '2001-05-19', 'currentMatchday': None, 'winner': {'id': 66, 'name': 'Manchester United FC', 'shortName': 'Man United', 'tla': 'MUN', 'crestUrl': 'http://upload.wikimedia.org/wikipedia/de/d/da/Manchester_United_FC.svg'}}, {'id': 273, 'startDate': '1999-08-07', 'endDate': '2000-05-14', 'currentMatchday': None, 'winner': {'id': 66, 'name': 'Manchester United FC', 'shortName': 'Man United', 'tla': 'MUN', 'crestUrl': 'http://upload.wikimedia.org/wikipedia/de/d/da/Manchester_United_FC.svg'}}, {'id': 274, 'startDate': '1998-08-15', 'endDate': '1999-05-16', 'currentMatchday': None, 'winner': {'id': 66, 'name': 'Manchester United FC', 'shortName': 'Man United', 'tla': 'MUN', 'crestUrl': 'http://upload.wikimedia.org/wikipedia/de/d/da/Manchester_United_FC.svg'}}, {'id': 275, 'startDate': '1997-08-09', 'endDate': '1998-05-10', 'currentMatchday': None, 'winner': {'id': 57, 'name': 'Arsenal FC', 'shortName': 'Arsenal', 'tla': 'ARS', 'crestUrl': 'http://upload.wikimedia.org/wikipedia/en/5/53/Arsenal_FC.svg'}}, {'id': 276, 'startDate': '1996-08-17', 'endDate': '1997-05-11', 'currentMatchday': None, 'winner': {'id': 66, 'name': 'Manchester United FC', 'shortName': 'Man United', 'tla': 'MUN', 'crestUrl': 'http://upload.wikimedia.org/wikipedia/de/d/da/Manchester_United_FC.svg'}}, {'id': 277, 'startDate': '1995-08-19', 'endDate': '1996-05-04', 'currentMatchday': None, 'winner': {'id': 66, 'name': 'Manchester United FC', 'shortName': 'Man United', 'tla': 'MUN', 'crestUrl': 'http://upload.wikimedia.org/wikipedia/de/d/da/Manchester_United_FC.svg'}}, {'id': 254, 'startDate': '1994-08-20', 'endDate': '1995-05-14', 'currentMatchday': None, 'winner': {'id': 59, 'name': 'Blackburn Rovers FC', 'shortName': 'Blackburn Rov', 'tla': 'BBR', 'crestUrl': None}}, {'id': 255, 'startDate': '1993-08-14', 'endDate': '1994-05-08', 'currentMatchday': None, 'winner': {'id': 66, 'name': 'Manchester United FC', 'shortName': 'Man United', 'tla': 'MUN', 'crestUrl': 'http://upload.wikimedia.org/wikipedia/de/d/da/Manchester_United_FC.svg'}}], 'lastUpdated': '2019-05-05T22:28:09Z'}\n"
     ]
    }
   ],
   "source": [
    "import http.client\n",
    "import json\n",
    "\n",
    "connection = http.client.HTTPConnection('api.football-data.org')\n",
    "headers = { 'X-Auth-Token': ' c99bae2398734351a36aeaff2a349ae1' }\n",
    "connection.request('GET', '/v2/competitions/PL', None, headers )\n",
    "response = json.loads(connection.getresponse().read().decode())\n",
    "\n",
    "print (response)\n",
    "\n",
    "\n",
    "\n",
    "\n"
   ]
  },
  {
   "cell_type": "code",
   "execution_count": null,
   "metadata": {},
   "outputs": [],
   "source": []
  }
 ],
 "metadata": {
  "kernelspec": {
   "display_name": "Python 3",
   "language": "python",
   "name": "python3"
  },
  "language_info": {
   "codemirror_mode": {
    "name": "ipython",
    "version": 3
   },
   "file_extension": ".py",
   "mimetype": "text/x-python",
   "name": "python",
   "nbconvert_exporter": "python",
   "pygments_lexer": "ipython3",
   "version": "3.6.6"
  }
 },
 "nbformat": 4,
 "nbformat_minor": 2
}
