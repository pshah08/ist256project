{
 "cells": [
  {
   "cell_type": "code",
   "execution_count": 8,
   "metadata": {},
   "outputs": [
    {
     "name": "stdout",
     "output_type": "stream",
     "text": [
      "Welcome to the Football Data Visualiser!\n",
      "With this program you can see statistics from competitions, matches, teams, standings, and players.\n",
      "Please enter all requests in lower case!\n",
      "Enter your search parameter: standings\n",
      "League IDs: BSA : 2013\n",
      "BL : 2002\n",
      "DED : 2002\n",
      "For which league would you like to see the standings? Please use league IDs: 2002\n",
      "{'error': 404}\n"
     ]
    }
   ],
   "source": [
    "import http.client\n",
    "import json\n",
    "\n",
    "print('Welcome to the Football Data Visualiser!')\n",
    "print('With this program you can see statistics from competitions, matches, teams, standings, and players.')\n",
    "print('Please enter all requests in lower case!')\n",
    "first_input = input('Enter your search parameter: ')\n",
    "\n",
    "if first_input == 'competitions':\n",
    "#code the specfic ping for competitions to the API\n",
    "    print('Competitions:')\n",
    "\n",
    "elif first_input == 'matches':\n",
    "#code the specific ping for matches to the API\n",
    "    print('Competitions:')\n",
    "\n",
<<<<<<< HEAD
    "elif first_input == 'teams'\n",
=======
    "elif first_input == 'teams':\n",
>>>>>>> f2cedfb1eeeafef79a08029e5195e9567d62c27c
    "#code the specific ping for teams to the API\n",
    "    print('Competitions:')\n",
    "\n",
<<<<<<< HEAD
    "elif first_input == 'standings'\n",
=======
    "elif first_input == 'standings':\n",
>>>>>>> f2cedfb1eeeafef79a08029e5195e9567d62c27c
    "#code the specific ping for standings to the API\n",
    "    print(\"League IDs: BSA : 2013\")\n",
    "    print(\"BL : 2002\")\n",
    "    print(\"DED : 2002\")\n",
    "    standings_input = input('For which league would you like to see the standings? Please use league IDs: ')\n",
    "    connection = http.client.HTTPConnection('api.football-data.org')\n",
    "    standings_parameters = '/v2/competitions' + standings_input + first_input\n",
    "    headers = { 'X-Auth-Token': ' c99bae2398734351a36aeaff2a349ae1' }\n",
    "    connection.request('GET', standings_parameters , None, headers )\n",
    "    response = json.loads(connection.getresponse().read().decode())\n",
    "\n",
<<<<<<< HEAD
    "elif first_input == 'players'\n",
=======
    "    print (response)\n",
    "\n",
    "elif first_input == 'players':\n",
>>>>>>> f2cedfb1eeeafef79a08029e5195e9567d62c27c
    "#code the specific ping for players to the API\n",
    "    print('Competitions:')\n",
    "\n",
    "\n"
   ]
  },
  {
   "cell_type": "code",
   "execution_count": null,
   "metadata": {},
   "outputs": [],
   "source": []
  },
  {
   "cell_type": "code",
   "execution_count": null,
   "metadata": {},
   "outputs": [],
   "source": []
  }
 ],
 "metadata": {
  "kernelspec": {
   "display_name": "Python 3",
   "language": "python",
   "name": "python3"
  },
  "language_info": {
   "codemirror_mode": {
    "name": "ipython",
    "version": 3
   },
   "file_extension": ".py",
   "mimetype": "text/x-python",
   "name": "python",
   "nbconvert_exporter": "python",
   "pygments_lexer": "ipython3",
   "version": "3.6.6"
  }
 },
 "nbformat": 4,
 "nbformat_minor": 2
}
