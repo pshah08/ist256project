{
 "cells": [
  {
   "cell_type": "code",
   "execution_count": 1,
   "metadata": {
    "scrolled": true
   },
   "outputs": [
    {
     "name": "stdout",
     "output_type": "stream",
     "text": [
      "Welcome to the Football Data Visualiser!\n",
      "With this program you can see statistics from competitions, matches, teams, standings, and players.\n",
      "Please enter all requests in lower case!\n",
      "Enter your search parameter: matches\n",
      "Matches\n",
      "{'count': 5, 'filters': {'dateFrom': '2019-05-06', 'dateTo': '2019-05-06', 'permission': 'TIER_ONE'}, 'matches': [{'id': 262415, 'competition': {'id': 2013, 'name': 'Série A'}, 'season': {'id': 460, 'startDate': '2019-04-28', 'endDate': '2019-12-08', 'currentMatchday': 3, 'winner': None}, 'utcDate': '2019-05-05T22:00:00Z', 'status': 'FINISHED', 'matchday': 3, 'stage': 'REGULAR_SEASON', 'group': 'Regular Season', 'lastUpdated': '2019-05-06T02:58:19Z', 'score': {'winner': 'AWAY_TEAM', 'duration': 'REGULAR', 'fullTime': {'homeTeam': 4, 'awayTeam': 5}, 'halfTime': {'homeTeam': 3, 'awayTeam': 2}, 'extraTime': {'homeTeam': None, 'awayTeam': None}, 'penalties': {'homeTeam': None, 'awayTeam': None}}, 'homeTeam': {'id': 1767, 'name': 'Grêmio FBPA'}, 'awayTeam': {'id': 1765, 'name': 'Fluminense FC'}, 'referees': [{'id': 11260, 'name': 'Raphael Claus', 'nationality': None}, {'id': 11262, 'name': 'Danilo Ricardo Simon Manis', 'nationality': None}, {'id': 49500, 'name': 'Neuza Inês Back', 'nationality': None}, {'id': 56227, 'name': 'Eleno Gonzalez Todeschini', 'nationality': None}]}, {'id': 262417, 'competition': {'id': 2013, 'name': 'Série A'}, 'season': {'id': 460, 'startDate': '2019-04-28', 'endDate': '2019-12-08', 'currentMatchday': 3, 'winner': None}, 'utcDate': '2019-05-05T22:00:00Z', 'status': 'FINISHED', 'matchday': 3, 'stage': 'REGULAR_SEASON', 'group': 'Regular Season', 'lastUpdated': '2019-05-06T02:58:19Z', 'score': {'winner': 'HOME_TEAM', 'duration': 'REGULAR', 'fullTime': {'homeTeam': 1, 'awayTeam': 0}, 'halfTime': {'homeTeam': 1, 'awayTeam': 0}, 'extraTime': {'homeTeam': None, 'awayTeam': None}, 'penalties': {'homeTeam': None, 'awayTeam': None}}, 'homeTeam': {'id': 1777, 'name': 'EC Bahia'}, 'awayTeam': {'id': 1775, 'name': 'Avaí FC'}, 'referees': [{'id': 11426, 'name': 'Bruno Arleu de Araujo', 'nationality': None}, {'id': 11162, 'name': 'Rafael da Silva Alves', 'nationality': None}, {'id': 11453, 'name': 'Jorge Eduardo Bernardi', 'nationality': None}, {'id': 19013, 'name': 'Ricarle Gonçalves Batista', 'nationality': None}]}, {'id': 248127, 'competition': {'id': 2019, 'name': 'Serie A'}, 'season': {'id': 290, 'startDate': '2018-08-18', 'endDate': '2019-05-26', 'currentMatchday': 35, 'winner': None}, 'utcDate': '2019-05-06T18:30:00Z', 'status': 'FINISHED', 'matchday': 35, 'stage': 'REGULAR_SEASON', 'group': 'Regular Season', 'lastUpdated': '2019-05-06T22:35:39Z', 'score': {'winner': 'HOME_TEAM', 'duration': 'REGULAR', 'fullTime': {'homeTeam': 2, 'awayTeam': 1}, 'halfTime': {'homeTeam': 1, 'awayTeam': 0}, 'extraTime': {'homeTeam': None, 'awayTeam': None}, 'penalties': {'homeTeam': None, 'awayTeam': None}}, 'homeTeam': {'id': 98, 'name': 'AC Milan'}, 'awayTeam': {'id': 103, 'name': 'Bologna FC 1909'}, 'referees': [{'id': 11060, 'name': 'Marco Di Bello', 'nationality': None}, {'id': 11080, 'name': 'Sergio Ranghetti', 'nationality': None}, {'id': 11045, 'name': 'Giorgio Schenone', 'nationality': None}, {'id': 11021, 'name': 'Fabrizio Pasqua', 'nationality': None}, {'id': 11075, 'name': 'Paolo Valeri', 'nationality': None}]}, {'id': 233384, 'competition': {'id': 2021, 'name': 'Premier League'}, 'season': {'id': 151, 'startDate': '2018-08-10', 'endDate': '2019-05-12', 'currentMatchday': 37, 'winner': None}, 'utcDate': '2019-05-06T19:00:00Z', 'status': 'IN_PLAY', 'matchday': 37, 'stage': 'REGULAR_SEASON', 'group': 'Regular Season', 'lastUpdated': '2019-05-06T22:36:19Z', 'score': {'winner': 'HOME_TEAM', 'duration': 'REGULAR', 'fullTime': {'homeTeam': 1, 'awayTeam': 0}, 'halfTime': {'homeTeam': 0, 'awayTeam': 0}, 'extraTime': {'homeTeam': None, 'awayTeam': None}, 'penalties': {'homeTeam': None, 'awayTeam': None}}, 'homeTeam': {'id': 65, 'name': 'Manchester City FC'}, 'awayTeam': {'id': 338, 'name': 'Leicester City FC'}, 'referees': [{'id': 11575, 'name': 'Mike Dean', 'nationality': None}, {'id': 11586, 'name': 'Richard West', 'nationality': None}, {'id': 11431, 'name': 'Daniel Robathan', 'nationality': None}, {'id': 11479, 'name': 'Lee Mason', 'nationality': None}]}, {'id': 241456, 'competition': {'id': 2017, 'name': 'Primeira Liga'}, 'season': {'id': 183, 'startDate': '2018-08-10', 'endDate': '2019-05-19', 'currentMatchday': 32, 'winner': None}, 'utcDate': '2019-05-06T19:15:00Z', 'status': 'IN_PLAY', 'matchday': 32, 'stage': 'REGULAR_SEASON', 'group': 'Regular Season', 'lastUpdated': '2019-05-06T22:36:19Z', 'score': {'winner': 'DRAW', 'duration': 'REGULAR', 'fullTime': {'homeTeam': 0, 'awayTeam': 0}, 'halfTime': {'homeTeam': 0, 'awayTeam': 0}, 'extraTime': {'homeTeam': None, 'awayTeam': None}, 'penalties': {'homeTeam': None, 'awayTeam': None}}, 'homeTeam': {'id': 5620, 'name': 'Vitória FC'}, 'awayTeam': {'id': 810, 'name': 'Boavista FC'}, 'referees': [{'id': 37812, 'name': 'Fábio Costa', 'nationality': None}, {'id': 37714, 'name': 'Paulo Soares', 'nationality': None}, {'id': 37389, 'name': 'Sérgio Jesus', 'nationality': None}, {'id': 40146, 'name': 'João Bento', 'nationality': None}, {'id': 37506, 'name': 'Rui Costa', 'nationality': None}]}]}\n"
     ]
    }
   ],
   "source": [
    "import http.client\n",
    "import json\n",
    "import requests \n",
    "import pandas as pd\n",
    "import numpy as np\n",
    "# this turns off warning messages\n",
    "import warnings\n",
    "warnings.filterwarnings('ignore')\n",
    "\n",
    "print('Welcome to the Football Data Visualiser!')\n",
    "print('With this program you can see statistics from competitions, matches, teams, standings, and players.')\n",
    "print('Please enter all requests in lower case!')\n",
    "\n",
    "while(True):\n",
    "\n",
    "    first_input = input('Enter your search parameter: ')\n",
    "\n",
    "    if first_input == 'competitions':\n",
    "        # This codes the specfic ping for competitions to the API\n",
    "        print('Competitions:')\n",
    "\n",
    "        competitions_input = input('Which specific competition would you like to see?')\n",
    "        connection = http.client.HTTPConnection('api.football-data.org')\n",
    "        competitions_parameters = '/v2/competitions/' + competitions_input\n",
    "        headers = {'X-Auth-Token': ' c99bae2398734351a36aeaff2a349ae1'}\n",
    "        connection.request('GET', competitions_parameters, None, headers)\n",
    "        response = json.loads(connection.getresponse().read().decode())\n",
    "        \n",
    "\n",
    "    elif first_input == 'matches':\n",
    "        # This codes the specific ping for matches to the API \n",
    "        print('Matches')\n",
    "        match_input = 'matches'\n",
    "        connection = http.client.HTTPConnection('api.football-data.org')\n",
    "        match_parameter = '/v2/' + match_input\n",
    "        headers = {'X-Auth-Token': ' c99bae2398734351a36aeaff2a349ae1'}\n",
    "        connection.request('GET', match_parameter, None, headers)\n",
    "        match_data = json.loads(connection.getresponse().read().decode())\n",
    "        match_df = pd.DataFrame.from_dict(match_data, orient = \"index\")\n",
    "        print(match_data)\n",
    "        break\n",
    "\n",
    "\n",
    "    elif first_input == 'teams':\n",
    "        # This codes the specific ping for teams to the API\n",
    "\n",
    "        print('Teams:')\n",
    "\n",
    "        teams_input = input(\"Please enter the team ID for the specific team you desire to see:\")\n",
    "        connection = http.client.HTTPConnection('api.football-data.org')\n",
    "        teams_parameter = '/v2/teams/' + teams_input\n",
    "        headers = {'X-Auth-Token': ' c99bae2398734351a36aeaff2a349ae1'}\n",
    "        connection.request('GET', teams_parameter, None, headers)\n",
    "        response = json.loads(connection.getresponse().read().decode())\n",
    "        \n",
    "\n",
    "    elif first_input == 'players':\n",
    "\n",
    "        # This codes the specific ping for players to the API\n",
    "        players_input = input('Please input the specific player ID for the player you desire to see:')\n",
    "        connection = http.client.HTTPConnection('api.football-data.org')\n",
    "        players_parameters = '/v2/players/' + players_input\n",
    "        headers = {'X-Auth-Token': ' c99bae2398734351a36aeaff2a349ae1'}\n",
    "        connection.request('GET', players_parameters, None, headers)\n",
    "        response = json.loads(connection.getresponse().read().decode())\n",
    "        \n",
    "\n",
    "    elif first_input == 'standings':\n",
    "\n",
    "        # This codes the specific ping for standings to the API\n",
    "\n",
    "        standings_input = input('For which league would you like to see the standings? Please use league IDs: ')\n",
    "        connection = http.client.HTTPConnection('api.football-data.org')\n",
    "        standings_parameters = '/v2/competitions/' + standings_input + \"/\" + first_input\n",
    "        headers = {'X-Auth-Token': ' c99bae2398734351a36aeaff2a349ae1'}\n",
    "        connection.request('GET', standings_parameters, None, headers)\n",
    "        response = json.loads(connection.getresponse().read().decode())\n",
    "        \n",
    "\n",
    "    else:\n",
    "        print(\"That's not a correct command, please re-enter: \")"
   ]
  },
  {
   "cell_type": "markdown",
   "metadata": {},
   "source": []
  },
  {
   "cell_type": "code",
   "execution_count": null,
   "metadata": {},
   "outputs": [],
   "source": []
  }
 ],
 "metadata": {
  "kernelspec": {
   "display_name": "Python 3",
   "language": "python",
   "name": "python3"
  },
  "language_info": {
   "codemirror_mode": {
    "name": "ipython",
    "version": 3
   },
   "file_extension": ".py",
   "mimetype": "text/x-python",
   "name": "python",
   "nbconvert_exporter": "python",
   "pygments_lexer": "ipython3",
   "version": "3.6.6"
  }
 },
 "nbformat": 4,
 "nbformat_minor": 2
}
