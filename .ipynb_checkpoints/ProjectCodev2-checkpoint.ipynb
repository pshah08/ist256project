{
 "cells": [
  {
   "cell_type": "code",
   "execution_count": 4,
   "metadata": {
    "scrolled": true
   },
   "outputs": [
    {
     "name": "stdout",
     "output_type": "stream",
     "text": [
      "Welcome to the Football Data Visualiser!\n",
      "With this program you can see statistics from competitions, matches, teams, standings, and players.\n",
      "Please enter all requests in lower case!\n",
      "Enter your search parameter, enter quit to exit the program, or type done to print your graph: players\n",
      "Please input the specific player ID for the player you desire to see:2\n",
      "{'id': 2, 'name': 'Juanmi', 'firstName': 'Juan Miguel', 'lastName': None, 'dateOfBirth': '1993-05-20', 'countryOfBirth': 'Spain', 'nationality': 'Spain', 'position': 'Attacker', 'shirtNumber': 7, 'lastUpdated': '2018-09-19T05:11:07Z'}\n"
     ]
    },
    {
     "ename": "AttributeError",
     "evalue": "'str' object has no attribute 'str_append'",
     "output_type": "error",
     "traceback": [
      "\u001b[1;31m---------------------------------------------------------------------------\u001b[0m",
      "\u001b[1;31mAttributeError\u001b[0m                            Traceback (most recent call last)",
      "\u001b[1;32m<ipython-input-4-b282e3c1d8c2>\u001b[0m in \u001b[0;36m<module>\u001b[1;34m\u001b[0m\n\u001b[0;32m     83\u001b[0m \u001b[1;33m\u001b[0m\u001b[0m\n\u001b[0;32m     84\u001b[0m         \u001b[1;32mfor\u001b[0m \u001b[0mkey\u001b[0m \u001b[1;32min\u001b[0m \u001b[0mplayer_data\u001b[0m\u001b[1;33m:\u001b[0m\u001b[1;33m\u001b[0m\u001b[0m\n\u001b[1;32m---> 85\u001b[1;33m             \u001b[0mplayer_data\u001b[0m\u001b[1;33m[\u001b[0m\u001b[1;34m'name'\u001b[0m\u001b[1;33m]\u001b[0m\u001b[1;33m.\u001b[0m\u001b[0mstr_append\u001b[0m\u001b[1;33m(\u001b[0m\u001b[0mname\u001b[0m\u001b[1;33m)\u001b[0m\u001b[1;33m\u001b[0m\u001b[0m\n\u001b[0m\u001b[0;32m     86\u001b[0m             \u001b[0mplayer_data\u001b[0m\u001b[1;33m[\u001b[0m\u001b[1;34m'position'\u001b[0m\u001b[1;33m]\u001b[0m\u001b[1;33m.\u001b[0m\u001b[0mstr_append\u001b[0m\u001b[1;33m(\u001b[0m\u001b[0mposition2\u001b[0m\u001b[1;33m)\u001b[0m\u001b[1;33m\u001b[0m\u001b[0m\n\u001b[0;32m     87\u001b[0m             \u001b[0mplayer_data\u001b[0m\u001b[1;33m[\u001b[0m\u001b[1;34m'nationality'\u001b[0m\u001b[1;33m]\u001b[0m\u001b[1;33m.\u001b[0m\u001b[0mstr_append\u001b[0m\u001b[1;33m(\u001b[0m\u001b[0mnationality\u001b[0m\u001b[1;33m)\u001b[0m\u001b[1;33m\u001b[0m\u001b[0m\n",
      "\u001b[1;31mAttributeError\u001b[0m: 'str' object has no attribute 'str_append'"
     ]
    }
   ],
   "source": [
    "import http.client\n",
    "import json\n",
    "import requests \n",
    "import pandas as pd\n",
    "import numpy as np\n",
    "# this turns off warning messages\n",
    "import warnings\n",
    "warnings.filterwarnings('ignore')\n",
    "\n",
    "\n",
    "print('Welcome to the Football Data Visualiser!')\n",
    "print('With this program you can see statistics from competitions, matches, teams, standings, and players.')\n",
    "print('Please enter all requests in lower case!')\n",
    "\n",
    "while(True):\n",
    "\n",
    "    first_input = input('Enter your search parameter, enter quit to exit the program, or type done to print your graph: ')\n",
    "           \n",
    "    if first_input == 'matches':\n",
    "        # This codes the specific ping for matches to the API \n",
    "        print('Matches')\n",
    "        match_input = 'matches'\n",
    "        connection = http.client.HTTPConnection('api.football-data.org')\n",
    "        match_parameter = '/v2/' + match_input\n",
    "        headers = {'X-Auth-Token': ' c99bae2398734351a36aeaff2a349ae1'}\n",
    "        connection.request('GET', match_parameter, None, headers)\n",
    "        match_data = json.loads(connection.getresponse().read().decode())\n",
    "        #gets the home team's scoring data\n",
    "        homeTeam = str(match_data['matches'][0]['homeTeam']['name'])\n",
    "        #gets the away team's scoring data\n",
    "        awayTeam = str(match_data['matches'][0]['awayTeam']['name'])\n",
    "        homeTeamScore = int(match_data['matches'][0]['score']['fullTime']['homeTeam'])\n",
    "        awayTeamScore = int(match_data['matches'][0]['score']['fullTime']['awayTeam'])\n",
    "        total_match_data = [[homeTeam,homeTeamScore], [awayTeam, awayTeamScore]]\n",
    "        match_df = pd.DataFrame(total_match_data, columns = [\"Team\", \"score\"])\n",
    "        \n",
    "        print(match_df)\n",
    "        \n",
    "        #for some reason to see the graph you must quit the program. It prints in console after the program ends.\n",
    "        match_df.plot.bar()\n",
    "        \n",
    "        \n",
    "    elif first_input == 'teams':\n",
    "        # This codes the specific ping for teams to the API\n",
    "\n",
    "        print('Teams:')\n",
    "\n",
    "        teams_input = input(\"Please enter the team ID for the specific team you desire to see:\")\n",
    "        connection = http.client.HTTPConnection('api.football-data.org')\n",
    "        teams_parameter = '/v2/teams/' + teams_input\n",
    "        headers = {'X-Auth-Token': ' c99bae2398734351a36aeaff2a349ae1'}\n",
    "        connection.request('GET', teams_parameter, None, headers)\n",
    "        teams_data = json.loads(connection.getresponse().read().decode())\n",
    "        \n",
    "        player_names = []\n",
    "        position = []\n",
    "        player_nums = []\n",
    "        squad_data = teams_data['squad']\n",
    "        \n",
    "        for player in squad_data:\n",
    "            player_names.append(player['name'])\n",
    "            position.append(player['position'])\n",
    "            player_nums.append(player['shirtNumber'])\n",
    "        team_data2 = []\n",
    "        for i in range(len(squad_data)):\n",
    "            team_data2[i] = [player_names[i], position[i], player_nums[i]]\n",
    "            \n",
    "        squad_df = pd.DataFrame(team_data2, columns =  ['Player Name', 'Position', 'Player Number'])\n",
    "        print(squad_df)\n",
    "        \n",
    "    elif first_input == 'players':\n",
    "\n",
    "        # This codes the specific ping for players to the API\n",
    "        players_input = input('Please input the specific player ID for the player you desire to see:')\n",
    "        connection = http.client.HTTPConnection('api.football-data.org')\n",
    "        players_parameters = '/v2/players/' + players_input\n",
    "        headers = {'X-Auth-Token': ' c99bae2398734351a36aeaff2a349ae1'}\n",
    "        connection.request('GET', players_parameters, None, headers)\n",
    "        player_data = json.loads(connection.getresponse().read().decode())\n",
    "        print(player_data)\n",
    "        name = []\n",
    "        nationality = []\n",
    "        position2 = []\n",
    "        \n",
    "        player = [player_data['name'], player_data['nationality'], player_data['position']]\n",
    "        player_df = pd.DataFrame(player, columns = ['Player Name','Nationality','Position'])\n",
    "        player_df\n",
    "        \n",
    "    elif first_input == \"quit\":\n",
    "        break\n",
    "    else:\n",
    "        print(\"That's not a correct command, please re-enter: \")"
   ]
  },
  {
   "cell_type": "markdown",
   "metadata": {},
   "source": []
  },
  {
   "cell_type": "markdown",
   "metadata": {},
   "source": []
  }
 ],
 "metadata": {
  "kernelspec": {
   "display_name": "Python 3",
   "language": "python",
   "name": "python3"
  },
  "language_info": {
   "codemirror_mode": {
    "name": "ipython",
    "version": 3
   },
   "file_extension": ".py",
   "mimetype": "text/x-python",
   "name": "python",
   "nbconvert_exporter": "python",
   "pygments_lexer": "ipython3",
   "version": "3.6.6"
  }
 },
 "nbformat": 4,
 "nbformat_minor": 2
}
