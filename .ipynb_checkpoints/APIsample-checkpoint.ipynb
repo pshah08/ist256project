{
 "cells": [
  {
   "cell_type": "code",
   "execution_count": 6,
   "metadata": {},
   "outputs": [
    {
     "name": "stderr",
     "output_type": "stream",
     "text": [
      "You are using pip version 18.1, however version 19.1 is available.\n",
      "You should consider upgrading via the 'python -m pip install --upgrade pip' command.\n"
     ]
    },
    {
     "name": "stdout",
     "output_type": "stream",
     "text": [
      "{'id': 2003, 'area': {'id': 2163, 'name': 'Netherlands'}, 'name': 'Eredivisie', 'code': 'DED', 'emblemUrl': None, 'plan': 'TIER_ONE', 'currentSeason': {'id': 156, 'startDate': '2018-08-10', 'endDate': '2019-05-12', 'currentMatchday': 34, 'winner': None}, 'seasons': [{'id': 156, 'startDate': '2018-08-10', 'endDate': '2019-05-12', 'currentMatchday': 34, 'winner': None}, {'id': 4, 'startDate': '2017-08-11', 'endDate': '2018-05-20', 'currentMatchday': 34, 'winner': {'id': 674, 'name': 'PSV', 'shortName': 'PSV', 'tla': 'PSV', 'crestUrl': 'http://upload.wikimedia.org/wikipedia/de/0/05/PSV_Eindhoven.svg'}}, {'id': 318, 'startDate': '2016-08-05', 'endDate': '2017-05-14', 'currentMatchday': None, 'winner': None}, {'id': 319, 'startDate': '2015-08-08', 'endDate': '2016-05-08', 'currentMatchday': None, 'winner': None}, {'id': 320, 'startDate': '2014-08-08', 'endDate': '2015-05-17', 'currentMatchday': None, 'winner': None}, {'id': 321, 'startDate': '2013-08-02', 'endDate': '2014-05-18', 'currentMatchday': None, 'winner': None}, {'id': 322, 'startDate': '2012-08-10', 'endDate': '2013-05-26', 'currentMatchday': None, 'winner': None}, {'id': 323, 'startDate': '2011-08-05', 'endDate': '2012-05-06', 'currentMatchday': None, 'winner': None}, {'id': 324, 'startDate': '2010-08-06', 'endDate': '2011-05-15', 'currentMatchday': None, 'winner': None}], 'lastUpdated': '2019-04-30T16:50:03Z'}\n"
     ]
    }
   ],
   "source": [
    "\n",
    "import http.client\n",
    "import json\n",
    "\n",
    "connection = http.client.HTTPConnection('api.football-data.org')\n",
    "headers = { 'X-Auth-Token': ' c99bae2398734351a36aeaff2a349ae1' }\n",
    "connection.request('GET', '/v2/competitions/DED', None, headers )\n",
    "response = json.loads(connection.getresponse().read().decode())\n",
    "\n",
    "print (response)\n",
    "\n"
   ]
  },
  {
   "cell_type": "code",
   "execution_count": null,
   "metadata": {},
   "outputs": [],
   "source": []
  }
 ],
 "metadata": {
  "kernelspec": {
   "display_name": "Python 3",
   "language": "python",
   "name": "python3"
  },
  "language_info": {
   "codemirror_mode": {
    "name": "ipython",
    "version": 3
   },
   "file_extension": ".py",
   "mimetype": "text/x-python",
   "name": "python",
   "nbconvert_exporter": "python",
   "pygments_lexer": "ipython3",
   "version": "3.6.6"
  }
 },
 "nbformat": 4,
 "nbformat_minor": 2
}
