{
 "cells": [
  {
   "cell_type": "code",
   "execution_count": 5,
   "metadata": {},
   "outputs": [
    {
     "name": "stdout",
     "output_type": "stream",
     "text": [
      "Welcome to the Football Data Visualiser!\n",
      "With this program you can see statistics from competitions, matches, teams, standings, and players.\n",
      "Please enter all requests in lower case!\n",
      "Enter your search parameter: teams\n",
      "{'message': \"Parameter 'id' is expected to be an integer in a specified range.\", 'errorCode': 400}\n"
     ]
    }
   ],
   "source": [
    "import http.client\n",
    "import json\n",
    "\n",
    "print('Welcome to the Football Data Visualiser!')\n",
    "print('With this program you can see statistics from competitions, matches, teams, standings, and players.')\n",
    "print('Please enter all requests in lower case!')\n",
    "first_input = input('Enter your search parameter: ')\n",
    "\n",
    "if first_input == 'competitions'\n",
    "#code the specfic ping for competitions to the API\n",
    "\n",
    "\n",
    "\n",
    "elif first_input == 'matches'\n",
    "#code the specific ping for matches to the API\n",
    "\n",
    "elif first_input == 'teams\n",
    "#code the specific ping for teams to the API\n",
    "connection.request('GET', '/v2/competitions/PL', None, headers )\n",
    "\n",
    "\n",
    "elif first_input == 'standings'\n",
    "#code the specific ping for standings to the API\n",
    "connection.request('GET', '/v2/competitions/PL', None, headers )\n",
    "\n",
    "\n",
    "elif first_input == 'players'\n",
    "#code the specific ping for players to the API\n",
    "    connection.request('GET', '/v2/competitions/PL', None, headers )\n",
    "\n"
   ]
  },
  {
   "cell_type": "code",
   "execution_count": null,
   "metadata": {},
   "outputs": [],
   "source": []
  },
  {
   "cell_type": "code",
   "execution_count": null,
   "metadata": {},
   "outputs": [],
   "source": []
  }
 ],
 "metadata": {
  "kernelspec": {
   "display_name": "Python 3",
   "language": "python",
   "name": "python3"
  },
  "language_info": {
   "codemirror_mode": {
    "name": "ipython",
    "version": 3
   },
   "file_extension": ".py",
   "mimetype": "text/x-python",
   "name": "python",
   "nbconvert_exporter": "python",
   "pygments_lexer": "ipython3",
   "version": "3.6.6"
  }
 },
 "nbformat": 4,
 "nbformat_minor": 2
}
