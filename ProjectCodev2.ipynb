{
 "cells": [
  {
   "cell_type": "code",
   "execution_count": 34,
   "metadata": {
    "scrolled": true
   },
   "outputs": [
    {
     "name": "stdout",
     "output_type": "stream",
     "text": [
      "Welcome to the Football Data Visualiser!\n",
      "With this program you can see statistics from competitions, matches, teams, standings, and players.\n",
      "Please enter all requests in lower case!\n",
      "Enter your search parameter: matches\n",
      "Matches\n",
      "[['HomeTeam', '2'], ['HomeTeam', '0'], ['HomeTeam', '1'], ['HomeTeam', '9'], ['HomeTeam', '-'], ['HomeTeam', '0'], ['HomeTeam', '5'], ['HomeTeam', '-'], ['HomeTeam', '0'], ['HomeTeam', '7']]\n"
     ]
    }
   ],
   "source": [
    "import http.client\n",
    "import json\n",
    "import requests \n",
    "import pandas as pd\n",
    "import numpy as np\n",
    "# this turns off warning messages\n",
    "import warnings\n",
    "warnings.filterwarnings('ignore')\n",
    "\n",
    "print('Welcome to the Football Data Visualiser!')\n",
    "print('With this program you can see statistics from competitions, matches, teams, standings, and players.')\n",
    "print('Please enter all requests in lower case!')\n",
    "\n",
    "while(True):\n",
    "\n",
    "    first_input = input('Enter your search parameter: ')\n",
    "\n",
    "    if first_input == 'competitions':\n",
    "        # This codes the specfic ping for competitions to the API\n",
    "        print('Competitions:')\n",
    "\n",
    "        competitions_input = input('Which specific competition would you like to see?')\n",
    "        connection = http.client.HTTPConnection('api.football-data.org')\n",
    "        competitions_parameters = '/v2/competitions/' + competitions_input\n",
    "        headers = {'X-Auth-Token': ' c99bae2398734351a36aeaff2a349ae1'}\n",
    "        connection.request('GET', competitions_parameters, None, headers)\n",
    "        response = json.loads(connection.getresponse().read().decode())\n",
    "        \n",
    "        break\n",
    "    elif first_input == 'matches':\n",
    "        # This codes the specific ping for matches to the API \n",
    "        print('Matches')\n",
    "        match_input = 'matches'\n",
    "        connection = http.client.HTTPConnection('api.football-data.org')\n",
    "        match_parameter = '/v2/' + match_input\n",
    "        headers = {'X-Auth-Token': ' c99bae2398734351a36aeaff2a349ae1'}\n",
    "        connection.request('GET', match_parameter, None, headers)\n",
    "        match_data = json.loads(connection.getresponse().read().decode())\n",
    "        home_score = []\n",
    "        for value in match_data['filters']['dateFrom']:\n",
    "            temp = ['HomeTeam', value]\n",
    "            home_score.append(temp)\n",
    "            \n",
    "        #home_score = match_data['score']['fulltime']['homeTeam']\n",
    "        print(home_score)\n",
    "        break\n",
    "\n",
    "\n",
    "    elif first_input == 'teams':\n",
    "        # This codes the specific ping for teams to the API\n",
    "\n",
    "        print('Teams:')\n",
    "\n",
    "        teams_input = input(\"Please enter the team ID for the specific team you desire to see:\")\n",
    "        connection = http.client.HTTPConnection('api.football-data.org')\n",
    "        teams_parameter = '/v2/teams/' + teams_input\n",
    "        headers = {'X-Auth-Token': ' c99bae2398734351a36aeaff2a349ae1'}\n",
    "        connection.request('GET', teams_parameter, None, headers)\n",
    "        response = json.loads(connection.getresponse().read().decode())\n",
    "        \n",
    "        break\n",
    "    elif first_input == 'players':\n",
    "\n",
    "        # This codes the specific ping for players to the API\n",
    "        players_input = input('Please input the specific player ID for the player you desire to see:')\n",
    "        connection = http.client.HTTPConnection('api.football-data.org')\n",
    "        players_parameters = '/v2/players/' + players_input\n",
    "        headers = {'X-Auth-Token': ' c99bae2398734351a36aeaff2a349ae1'}\n",
    "        connection.request('GET', players_parameters, None, headers)\n",
    "        response = json.loads(connection.getresponse().read().decode())\n",
    "        \n",
    "        break\n",
    "    elif first_input == 'standings':\n",
    "\n",
    "        # This codes the specific ping for standings to the API\n",
    "\n",
    "        standings_input = input('For which league would you like to see the standings? Please use league IDs: ')\n",
    "        connection = http.client.HTTPConnection('api.football-data.org')\n",
    "        standings_parameters = '/v2/competitions/' + standings_input + \"/\" + first_input\n",
    "        headers = {'X-Auth-Token': ' c99bae2398734351a36aeaff2a349ae1'}\n",
    "        connection.request('GET', standings_parameters, None, headers)\n",
    "        response = json.loads(connection.getresponse().read().decode())\n",
    "        \n",
    "        break\n",
    "    else:\n",
    "        print(\"That's not a correct command, please re-enter: \")"
   ]
  },
  {
   "cell_type": "markdown",
   "metadata": {},
   "source": []
  },
  {
   "cell_type": "markdown",
   "metadata": {},
   "source": []
  }
 ],
 "metadata": {
  "kernelspec": {
   "display_name": "Python 3",
   "language": "python",
   "name": "python3"
  },
  "language_info": {
   "codemirror_mode": {
    "name": "ipython",
    "version": 3
   },
   "file_extension": ".py",
   "mimetype": "text/x-python",
   "name": "python",
   "nbconvert_exporter": "python",
   "pygments_lexer": "ipython3",
   "version": "3.6.6"
  }
 },
 "nbformat": 4,
 "nbformat_minor": 2
}
