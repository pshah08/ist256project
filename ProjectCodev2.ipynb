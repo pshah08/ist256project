{
 "cells": [
  {
   "cell_type": "code",
   "execution_count": 30,
   "metadata": {
    "scrolled": true
   },
   "outputs": [
    {
     "ename": "SyntaxError",
     "evalue": "invalid syntax (<ipython-input-30-8c7a6c3864fb>, line 56)",
     "output_type": "error",
     "traceback": [
      "\u001b[0;36m  File \u001b[0;32m\"<ipython-input-30-8c7a6c3864fb>\"\u001b[0;36m, line \u001b[0;32m56\u001b[0m\n\u001b[0;31m    elif first_input == 'teams':    #code the specific ping for teams to the API\u001b[0m\n\u001b[0m       ^\u001b[0m\n\u001b[0;31mSyntaxError\u001b[0m\u001b[0;31m:\u001b[0m invalid syntax\n"
     ]
    }
   ],
   "source": [
    "import http.client\n",
    "import json\n",
    "import requests \n",
    "import pandas as pd\n",
    "import numpy as np\n",
    "\n",
    "# this turns off warning messages\n",
    "import warnings\n",
    "warnings.filterwarnings('ignore')\n",
    "\n",
    "\n",
    "\n",
    "print('Welcome to the Football Data Visualiser!')\n",
    "print('With this program you can see statistics from competitions, matches, teams, standings, and players.')\n",
    "print('Please enter all requests in lower case!')\n",
    "first_input = input('Enter your search parameter: ')\n",
    "\n",
    "if first_input == 'competitions':\n",
    "    #code the specfic ping for competitions to the API\n",
    "        print('Competitions:')\n",
    "        standings_input = input('For which league would you like to see the standings? Please use league IDs: ')\n",
    "        connection = http.client.HTTPConnection('api.football-data.org')\n",
    "        standings_parameters = '/v2/competitions/' + standings_input +\"/\" +first_input\n",
    "        headers = { 'X-Auth-Token': ' c99bae2398734351a36aeaff2a349ae1' }\n",
    "        connection.request('GET', standings_parameters , None, headers )\n",
    "        response = json.loads(connection.getresponse().read().decode())\n",
    "        print (response)\n",
    "\n",
    "elif first_input == 'Today\\'s matches':\n",
    "#>>>>>>> f2cedfb1eeeafef79a08029e5195e9567d62c27c\n",
    "    #code the specific ping for matches to the API\n",
    "    #print('Competitions:')\n",
    "        match_input = 'matches'\n",
    "        connection = http.client.HTTPConnection('api.football-data.org')\n",
    "        parameter = '/v2' + match_input +\"/\"\n",
    "        headers = { 'X-Auth-Token': ' c99bae2398734351a36aeaff2a349ae1' }\n",
    "        connection.request('GET', match_input , None, headers )\n",
    "        response = json.loads(connection.getresponse().read().decode())\n",
    "        print (response)\n",
    "        connection.request('GET', '/v2/competitions/PL', None, headers )\n",
    "    \n",
    "\n",
    "elif first_input == 'teams':\n",
    "    #code the specific ping for teams to the API\n",
    "    teamlist = pd.read_json('teams.json')\n",
    "    teamlist.sample(10)\n",
    "    \n",
    "    connection.request('GET', '/v2/competitions/PL', None, headers )\n",
    "    \n",
    "#elif first_input == 'standings':\n",
    "    #code the specific ping for standings to the API\n",
    "    connection.request('GET', '/v2/competitions/PL', None, headers )\n",
    "    \n",
    "elif first_input == 'players':\n",
    "    #code the specific ping for players to the API\n",
    "    elif first_input == 'teams':    #code the specific ping for teams to the API\n",
    "        print('Competitions:')        \n",
    "        standings_input = input('For which league would you like to see the standings? Please use league IDs: ')\n",
    "        connection = http.client.HTTPConnection('api.football-data.org')\n",
    "        standings_parameters = '/v2/competitions/' + standings_input +\"/\" +first_input\n",
    "        headers = { 'X-Auth-Token': ' c99bae2398734351a36aeaff2a349ae1' }\n",
    "        connection.request('GET', standings_parameters , None, headers )\n",
    "        response = json.loads(connection.getresponse().read().decode())\n",
    "        print (response)        \n",
    "\n",
    "elif first_input == 'standings':\n",
    "    #code the specific ping for standings to the API\n",
    "        \n",
    "        standings_input = input('For which league would you like to see the standings? Please use league IDs: ')\n",
    "        connection = http.client.HTTPConnection('api.football-data.org')\n",
    "        standings_parameters = '/v2/competitions/' + standings_input +\"/\" +first_input\n",
    "        headers = { 'X-Auth-Token': ' c99bae2398734351a36aeaff2a349ae1' }\n",
    "        connection.request('GET', standings_parameters , None, headers )\n",
    "        response = json.loads(connection.getresponse().read().decode())\n",
    "        print (response)\n",
    "              \n",
    "elif first_input == 'players':\n",
    "    #code the specific ping for players to the API\\n\",\n",
    "        print('Competitions:')"
   ]
  },
  {
   "cell_type": "code",
   "execution_count": null,
   "metadata": {},
   "outputs": [],
   "source": []
  },
  {
   "cell_type": "code",
   "execution_count": null,
   "metadata": {},
   "outputs": [],
   "source": []
  }
 ],
 "metadata": {
  "kernelspec": {
   "display_name": "Python 3",
   "language": "python",
   "name": "python3"
  },
  "language_info": {
   "codemirror_mode": {
    "name": "ipython",
    "version": 3
   },
   "file_extension": ".py",
   "mimetype": "text/x-python",
   "name": "python",
   "nbconvert_exporter": "python",
   "pygments_lexer": "ipython3",
   "version": "3.6.6"
  }
 },
 "nbformat": 4,
 "nbformat_minor": 2
}
